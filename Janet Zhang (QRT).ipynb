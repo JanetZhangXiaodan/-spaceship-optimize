{
 "cells": [
  {
   "cell_type": "code",
   "execution_count": 1,
   "metadata": {},
   "outputs": [],
   "source": [
    "contracts=[\n",
    " {\"name\": \"Contract1\", \"start\": 0, \"duration\": 5, \"price\": 10},\n",
    " {\"name\": \"Contract2\", \"start\": 3, \"duration\": 7, \"price\": 14},\n",
    " {\"name\": \"Contract3\", \"start\": 5, \"duration\": 9, \"price\": 8},\n",
    " {\"name\": \"Contract4\", \"start\": 5, \"duration\": 9, \"price\": 7}\n",
    "]\n"
   ]
  },
  {
   "cell_type": "markdown",
   "metadata": {},
   "source": [
    "The function works as follows:"
   ]
  },
  {
   "cell_type": "code",
   "execution_count": 2,
   "metadata": {},
   "outputs": [],
   "source": [
    "def findOptimalContracts(contracts):\n",
    "    #Sort the contracts by their start hour in ascending order\n",
    "    sortedContracts = sorted(contracts, key = lambda x: x['start'])\n",
    "    \n",
    "    #Initialize the Dynamic Programming table\n",
    "    n = len(contracts)\n",
    "    dp = [{'price':0, 'prev': None} for _ in range(n)]\n",
    "    \n",
    "    for i in range(n):\n",
    "        currentIncome = sortedContracts[i]['price']\n",
    "        currentDuration = sortedContracts[i]['duration']\n",
    "        prevIdx = None\n",
    "\n",
    "        for j in range(i):\n",
    "            if sortedContracts[j]['start'] + sortedContracts[j]['duration'] <= sortedContracts[i]['start']:\n",
    "                if dp[j]['price'] > dp[i]['price']:\n",
    "                    dp[i]['price'] = dp[j]['price']\n",
    "                    prevIdx = j\n",
    "        dp[i]['price'] += currentIncome\n",
    "        dp[i]['prev'] = prevIdx\n",
    "    \n",
    "    #Find the contract sequence with maximum profit\n",
    "    maxIncomeIdx = max(range(n), key=lambda i: dp[i]['price'])\n",
    "    maxIncome = dp[maxIncomeIdx]['price']\n",
    "    path = []\n",
    "    currIdx = maxIncomeIdx\n",
    "    while currIdx is not None:\n",
    "        path.append(contracts[currIdx]['name'])\n",
    "        currIdx = dp[currIdx]['prev']\n",
    "    path.reverse()\n",
    "            \n",
    "        \n",
    "    return {\"income\": maxIncome,\"path\": path}"
   ]
  },
  {
   "cell_type": "code",
   "execution_count": 3,
   "metadata": {},
   "outputs": [
    {
     "data": {
      "text/plain": [
       "{'income': 18, 'path': ['Contract1', 'Contract3']}"
      ]
     },
     "execution_count": 3,
     "metadata": {},
     "output_type": "execute_result"
    }
   ],
   "source": [
    "findOptimalContracts(contracts)"
   ]
  },
  {
   "cell_type": "code",
   "execution_count": null,
   "metadata": {},
   "outputs": [],
   "source": []
  }
 ],
 "metadata": {
  "kernelspec": {
   "display_name": "Python 3",
   "language": "python",
   "name": "python3"
  },
  "language_info": {
   "codemirror_mode": {
    "name": "ipython",
    "version": 3
   },
   "file_extension": ".py",
   "mimetype": "text/x-python",
   "name": "python",
   "nbconvert_exporter": "python",
   "pygments_lexer": "ipython3",
   "version": "3.6.5"
  }
 },
 "nbformat": 4,
 "nbformat_minor": 2
}
